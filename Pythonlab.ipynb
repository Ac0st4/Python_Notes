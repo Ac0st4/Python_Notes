{
 "cells": [
  {
   "cell_type": "code",
   "execution_count": 1,
   "id": "d62d8af0-1b8e-4799-b70a-94809255c9e5",
   "metadata": {
    "jp-MarkdownHeadingCollapsed": true,
    "tags": []
   },
   "outputs": [
    {
     "name": "stdout",
     "output_type": "stream",
     "text": [
      "Hello, Python!\n"
     ]
    }
   ],
   "source": [
    "# Trying my first python output\n",
    "print('Hello, Python!')\n"
   ]
  },
  {
   "cell_type": "code",
   "execution_count": 2,
   "id": "28222fdb-08da-436c-9d83-58f8d87d7e09",
   "metadata": {},
   "outputs": [
    {
     "name": "stdout",
     "output_type": "stream",
     "text": [
      "3.9.13 (main, Aug 25 2022, 23:51:50) [MSC v.1916 64 bit (AMD64)]\n"
     ]
    }
   ],
   "source": [
    "#Check the Python Version\n",
    "import sys\n",
    "print (sys.version)"
   ]
  },
  {
   "cell_type": "code",
   "execution_count": 4,
   "id": "771fd530-8ff8-4e6c-8444-e627442c7114",
   "metadata": {},
   "outputs": [
    {
     "name": "stdout",
     "output_type": "stream",
     "text": [
      "This will be printed\n",
      "This will cause an error\n",
      "This will NOT be printed\n"
     ]
    }
   ],
   "source": [
    "# Print string and error to see the running order\n",
    "\n",
    "print(\"This will be printed\")\n",
    "print(\"This will cause an error\")\n",
    "print(\"This will NOT be printed\")"
   ]
  },
  {
   "cell_type": "code",
   "execution_count": 6,
   "id": "0de2cdf6-7dad-48ef-b6a1-1352ea85d4df",
   "metadata": {},
   "outputs": [
    {
     "name": "stdout",
     "output_type": "stream",
     "text": [
      "Hello, World\n"
     ]
    }
   ],
   "source": [
    "print(\"Hello, World\") #Print the traditional Hello World"
   ]
  },
  {
   "cell_type": "code",
   "execution_count": 7,
   "id": "a1133c91-9b13-4e57-816d-73d2c044a478",
   "metadata": {},
   "outputs": [
    {
     "data": {
      "text/plain": [
       "int"
      ]
     },
     "execution_count": 7,
     "metadata": {},
     "output_type": "execute_result"
    }
   ],
   "source": [
    "type(12)"
   ]
  },
  {
   "cell_type": "code",
   "execution_count": 8,
   "id": "6cb95c11-be86-4086-8c67-97592c65de81",
   "metadata": {},
   "outputs": [
    {
     "data": {
      "text/plain": [
       "float"
      ]
     },
     "execution_count": 8,
     "metadata": {},
     "output_type": "execute_result"
    }
   ],
   "source": [
    "type(2.14)"
   ]
  },
  {
   "cell_type": "code",
   "execution_count": 9,
   "id": "835d8e28-53d1-470d-9e52-806c9e9470ec",
   "metadata": {},
   "outputs": [
    {
     "data": {
      "text/plain": [
       "str"
      ]
     },
     "execution_count": 9,
     "metadata": {},
     "output_type": "execute_result"
    }
   ],
   "source": [
    "type(\"Hello, Python 101!\")"
   ]
  },
  {
   "cell_type": "code",
   "execution_count": 10,
   "id": "4acf7264-ecf1-4390-8b00-c41f2d18f40c",
   "metadata": {},
   "outputs": [
    {
     "data": {
      "text/plain": [
       "float"
      ]
     },
     "execution_count": 10,
     "metadata": {},
     "output_type": "execute_result"
    }
   ],
   "source": [
    "type(12.0)"
   ]
  },
  {
   "cell_type": "code",
   "execution_count": 11,
   "id": "94f7d024-735d-4df0-875b-8aa537385de7",
   "metadata": {},
   "outputs": [
    {
     "data": {
      "text/plain": [
       "sys.float_info(max=1.7976931348623157e+308, max_exp=1024, max_10_exp=308, min=2.2250738585072014e-308, min_exp=-1021, min_10_exp=-307, dig=15, mant_dig=53, epsilon=2.220446049250313e-16, radix=2, rounds=1)"
      ]
     },
     "execution_count": 11,
     "metadata": {},
     "output_type": "execute_result"
    }
   ],
   "source": [
    "sys.float_info"
   ]
  },
  {
   "cell_type": "code",
   "execution_count": 12,
   "id": "4f591b53-a7f6-4804-bae4-44be10a7ba18",
   "metadata": {},
   "outputs": [
    {
     "data": {
      "text/plain": [
       "int"
      ]
     },
     "execution_count": 12,
     "metadata": {},
     "output_type": "execute_result"
    }
   ],
   "source": [
    "type(2)"
   ]
  },
  {
   "cell_type": "code",
   "execution_count": 13,
   "id": "24189e95-8eab-4742-8797-cc6bb2741f8b",
   "metadata": {},
   "outputs": [
    {
     "data": {
      "text/plain": [
       "2.0"
      ]
     },
     "execution_count": 13,
     "metadata": {},
     "output_type": "execute_result"
    }
   ],
   "source": [
    "float(2)"
   ]
  },
  {
   "cell_type": "code",
   "execution_count": 14,
   "id": "26317026-4705-42d2-a474-bc77cd757ce0",
   "metadata": {},
   "outputs": [
    {
     "data": {
      "text/plain": [
       "float"
      ]
     },
     "execution_count": 14,
     "metadata": {},
     "output_type": "execute_result"
    }
   ],
   "source": [
    "type(float(2))"
   ]
  },
  {
   "cell_type": "code",
   "execution_count": 15,
   "id": "ec7d2d37-9509-43a2-9538-8cfaaf3f5b03",
   "metadata": {},
   "outputs": [
    {
     "data": {
      "text/plain": [
       "1"
      ]
     },
     "execution_count": 15,
     "metadata": {},
     "output_type": "execute_result"
    }
   ],
   "source": [
    "int(\"1\")"
   ]
  },
  {
   "cell_type": "code",
   "execution_count": 18,
   "id": "cc4fb859-96e5-4211-9d95-234c5f7947cf",
   "metadata": {},
   "outputs": [
    {
     "data": {
      "text/plain": [
       "1.2"
      ]
     },
     "execution_count": 18,
     "metadata": {},
     "output_type": "execute_result"
    }
   ],
   "source": [
    "float(\"1.2\")"
   ]
  },
  {
   "cell_type": "code",
   "execution_count": 19,
   "id": "b86df5b0-10d4-443f-9b58-19bb8ad2654d",
   "metadata": {},
   "outputs": [
    {
     "data": {
      "text/plain": [
       "1.2"
      ]
     },
     "execution_count": 19,
     "metadata": {},
     "output_type": "execute_result"
    }
   ],
   "source": [
    "float(1.2)"
   ]
  },
  {
   "cell_type": "code",
   "execution_count": 20,
   "id": "3c4b5dea-e693-4ce5-b655-e8976cf88db2",
   "metadata": {},
   "outputs": [
    {
     "data": {
      "text/plain": [
       "'1'"
      ]
     },
     "execution_count": 20,
     "metadata": {},
     "output_type": "execute_result"
    }
   ],
   "source": [
    "str(1)"
   ]
  },
  {
   "cell_type": "code",
   "execution_count": 22,
   "id": "cd08eb1b-50bb-42b7-aa83-09a4b0e2c943",
   "metadata": {},
   "outputs": [
    {
     "data": {
      "text/plain": [
       "'1.2'"
      ]
     },
     "execution_count": 22,
     "metadata": {},
     "output_type": "execute_result"
    }
   ],
   "source": [
    "str(1.2)"
   ]
  },
  {
   "cell_type": "code",
   "execution_count": 23,
   "id": "4e883d58-1265-4c47-b14d-9efa9bff83cc",
   "metadata": {},
   "outputs": [
    {
     "data": {
      "text/plain": [
       "bool"
      ]
     },
     "execution_count": 23,
     "metadata": {},
     "output_type": "execute_result"
    }
   ],
   "source": [
    "type(True)"
   ]
  },
  {
   "cell_type": "code",
   "execution_count": 24,
   "id": "a3f5be44-243a-4f4c-8b5c-d84572f126f9",
   "metadata": {},
   "outputs": [
    {
     "data": {
      "text/plain": [
       "bool"
      ]
     },
     "execution_count": 24,
     "metadata": {},
     "output_type": "execute_result"
    }
   ],
   "source": [
    "type(False)"
   ]
  },
  {
   "cell_type": "code",
   "execution_count": 25,
   "id": "287a10bb-66fc-4428-bc10-ddb384f9506a",
   "metadata": {},
   "outputs": [
    {
     "data": {
      "text/plain": [
       "1"
      ]
     },
     "execution_count": 25,
     "metadata": {},
     "output_type": "execute_result"
    }
   ],
   "source": [
    "int(True)"
   ]
  },
  {
   "cell_type": "code",
   "execution_count": 26,
   "id": "1c1590f1-a20e-4e76-b367-8fb037046048",
   "metadata": {},
   "outputs": [
    {
     "data": {
      "text/plain": [
       "0"
      ]
     },
     "execution_count": 26,
     "metadata": {},
     "output_type": "execute_result"
    }
   ],
   "source": [
    "int(False)"
   ]
  },
  {
   "cell_type": "code",
   "execution_count": 27,
   "id": "b1637639-d243-4777-ab80-8b4e7b67dde0",
   "metadata": {},
   "outputs": [
    {
     "data": {
      "text/plain": [
       "False"
      ]
     },
     "execution_count": 27,
     "metadata": {},
     "output_type": "execute_result"
    }
   ],
   "source": [
    "bool(0)"
   ]
  },
  {
   "cell_type": "code",
   "execution_count": 28,
   "id": "48db129d-3d03-47a0-838b-c92944730670",
   "metadata": {},
   "outputs": [
    {
     "data": {
      "text/plain": [
       "True"
      ]
     },
     "execution_count": 28,
     "metadata": {},
     "output_type": "execute_result"
    }
   ],
   "source": [
    "bool(1)"
   ]
  },
  {
   "cell_type": "code",
   "execution_count": 29,
   "id": "d329a7ca-53e3-48c0-b090-a844d11f9372",
   "metadata": {},
   "outputs": [
    {
     "data": {
      "text/plain": [
       "1.0"
      ]
     },
     "execution_count": 29,
     "metadata": {},
     "output_type": "execute_result"
    }
   ],
   "source": [
    "float(True)"
   ]
  },
  {
   "cell_type": "code",
   "execution_count": null,
   "id": "8988352a-367f-4aee-af0a-92037dc958b7",
   "metadata": {},
   "outputs": [],
   "source": [
    "#Exercise: Types"
   ]
  },
  {
   "cell_type": "code",
   "execution_count": 30,
   "id": "0c9e5dc6-ce05-4a1e-90e4-dcc5394451b9",
   "metadata": {
    "tags": []
   },
   "outputs": [
    {
     "data": {
      "text/plain": [
       "0.0"
      ]
     },
     "execution_count": 30,
     "metadata": {},
     "output_type": "execute_result"
    }
   ],
   "source": [
    "float(False)"
   ]
  },
  {
   "cell_type": "markdown",
   "id": "72f0e2f3-680b-415e-918f-2d5460bf51f3",
   "metadata": {},
   "source": [
    "# **Exercise: Types**"
   ]
  },
  {
   "cell_type": "code",
   "execution_count": 32,
   "id": "5df17471-708c-4d49-98e5-4ec6862ea0e0",
   "metadata": {},
   "outputs": [
    {
     "data": {
      "text/plain": [
       "float"
      ]
     },
     "execution_count": 32,
     "metadata": {},
     "output_type": "execute_result"
    }
   ],
   "source": [
    "type(6/2) "
   ]
  },
  {
   "cell_type": "code",
   "execution_count": 33,
   "id": "8ea4e37c-4a1a-4381-9c5c-ee2931919101",
   "metadata": {},
   "outputs": [
    {
     "data": {
      "text/plain": [
       "int"
      ]
     },
     "execution_count": 33,
     "metadata": {},
     "output_type": "execute_result"
    }
   ],
   "source": [
    "type(6//2)"
   ]
  },
  {
   "cell_type": "markdown",
   "id": "236aaf70-8936-4086-af18-b3d2e89b3f64",
   "metadata": {},
   "source": [
    "Expression and Variables"
   ]
  },
  {
   "cell_type": "code",
   "execution_count": 34,
   "id": "a4942704-b72a-486e-afd0-d0698a273d6f",
   "metadata": {},
   "outputs": [
    {
     "data": {
      "text/plain": [
       "129"
      ]
     },
     "execution_count": 34,
     "metadata": {},
     "output_type": "execute_result"
    }
   ],
   "source": [
    "43 + 43 + 43 #Addition"
   ]
  },
  {
   "cell_type": "code",
   "execution_count": 36,
   "id": "cc22269d-aa05-442e-b823-43a3d0b3b412",
   "metadata": {},
   "outputs": [
    {
     "data": {
      "text/plain": [
       "-10"
      ]
     },
     "execution_count": 36,
     "metadata": {},
     "output_type": "execute_result"
    }
   ],
   "source": [
    "50 - 60 #Subtraction"
   ]
  },
  {
   "cell_type": "code",
   "execution_count": 37,
   "id": "ee5245fb-0652-47da-82ad-cfa852e32d65",
   "metadata": {},
   "outputs": [
    {
     "data": {
      "text/plain": [
       "25"
      ]
     },
     "execution_count": 37,
     "metadata": {},
     "output_type": "execute_result"
    }
   ],
   "source": [
    "5 * 5 #Multiplication"
   ]
  },
  {
   "cell_type": "code",
   "execution_count": 38,
   "id": "62054855-bf94-4141-a1f7-17dc1087a17e",
   "metadata": {},
   "outputs": [
    {
     "data": {
      "text/plain": [
       "5.0"
      ]
     },
     "execution_count": 38,
     "metadata": {},
     "output_type": "execute_result"
    }
   ],
   "source": [
    "25 / 5 #Division"
   ]
  },
  {
   "cell_type": "code",
   "execution_count": 39,
   "id": "e529ef9d-f317-452e-9d88-afd4e5aac3e2",
   "metadata": {},
   "outputs": [
    {
     "data": {
      "text/plain": [
       "5.2"
      ]
     },
     "execution_count": 39,
     "metadata": {},
     "output_type": "execute_result"
    }
   ],
   "source": [
    "26 / 5 #Division "
   ]
  },
  {
   "cell_type": "code",
   "execution_count": 40,
   "id": "89549d2a-6ef4-449d-9104-3c3f1ed0cc28",
   "metadata": {},
   "outputs": [
    {
     "data": {
      "text/plain": [
       "5"
      ]
     },
     "execution_count": 40,
     "metadata": {},
     "output_type": "execute_result"
    }
   ],
   "source": [
    "25 // 5 #Integer division "
   ]
  },
  {
   "cell_type": "code",
   "execution_count": 41,
   "id": "d82771ac-2146-4e7f-867d-1442bb72978f",
   "metadata": {},
   "outputs": [
    {
     "data": {
      "text/plain": [
       "5"
      ]
     },
     "execution_count": 41,
     "metadata": {},
     "output_type": "execute_result"
    }
   ],
   "source": [
    "26 // 5 #Integer division"
   ]
  },
  {
   "cell_type": "code",
   "execution_count": 42,
   "id": "9781e646-7d36-4815-9a94-169c62c396ee",
   "metadata": {},
   "outputs": [],
   "source": [
    "#How many hours there are in 160 minutes:"
   ]
  },
  {
   "cell_type": "code",
   "execution_count": 43,
   "id": "4f41ed4c-3d48-400d-ba1e-c47a437486b8",
   "metadata": {},
   "outputs": [
    {
     "data": {
      "text/plain": [
       "2.6666666666666665"
      ]
     },
     "execution_count": 43,
     "metadata": {},
     "output_type": "execute_result"
    }
   ],
   "source": [
    "160 / 60 "
   ]
  },
  {
   "cell_type": "code",
   "execution_count": 45,
   "id": "251a2655-96c2-47c2-834e-5233012b99c1",
   "metadata": {},
   "outputs": [
    {
     "data": {
      "text/plain": [
       "150"
      ]
     },
     "execution_count": 45,
     "metadata": {},
     "output_type": "execute_result"
    }
   ],
   "source": [
    "30 + 2 * 60"
   ]
  },
  {
   "cell_type": "code",
   "execution_count": 46,
   "id": "82756eff-d1ab-477e-a658-1fad439ce7c9",
   "metadata": {},
   "outputs": [
    {
     "data": {
      "text/plain": [
       "1920"
      ]
     },
     "execution_count": 46,
     "metadata": {},
     "output_type": "execute_result"
    }
   ],
   "source": [
    "(30 + 2) * 60"
   ]
  },
  {
   "cell_type": "code",
   "execution_count": 47,
   "id": "d62a9791-9d2d-46a6-83b0-807e6234ef09",
   "metadata": {},
   "outputs": [],
   "source": [
    "#Storing variables:"
   ]
  },
  {
   "cell_type": "code",
   "execution_count": 57,
   "id": "2c25c745-0606-4806-8c26-258f7034ee4d",
   "metadata": {},
   "outputs": [],
   "source": [
    "x= 50+50"
   ]
  },
  {
   "cell_type": "code",
   "execution_count": 58,
   "id": "41bfbf42-6b58-4614-aa09-92eb443f800e",
   "metadata": {},
   "outputs": [
    {
     "data": {
      "text/plain": [
       "100"
      ]
     },
     "execution_count": 58,
     "metadata": {},
     "output_type": "execute_result"
    }
   ],
   "source": [
    "x"
   ]
  },
  {
   "cell_type": "code",
   "execution_count": 59,
   "id": "f9f734a4-9b78-46ee-b555-46be5a6032ce",
   "metadata": {},
   "outputs": [],
   "source": [
    "y= x/2"
   ]
  },
  {
   "cell_type": "code",
   "execution_count": 60,
   "id": "db3714fa-b1f2-4f93-b08a-f6076e870200",
   "metadata": {},
   "outputs": [
    {
     "data": {
      "text/plain": [
       "50.0"
      ]
     },
     "execution_count": 60,
     "metadata": {},
     "output_type": "execute_result"
    }
   ],
   "source": [
    "y"
   ]
  },
  {
   "cell_type": "code",
   "execution_count": 61,
   "id": "0dbb7006-9d25-4ba1-b40e-31965e0e738d",
   "metadata": {},
   "outputs": [
    {
     "data": {
      "text/plain": [
       "50.0"
      ]
     },
     "execution_count": 61,
     "metadata": {},
     "output_type": "execute_result"
    }
   ],
   "source": [
    "x= x/2\n",
    "x"
   ]
  },
  {
   "cell_type": "code",
   "execution_count": 62,
   "id": "a3f88551-5d6d-460d-a337-8f411dada5d5",
   "metadata": {},
   "outputs": [
    {
     "data": {
      "text/plain": [
       "50.0"
      ]
     },
     "execution_count": 62,
     "metadata": {},
     "output_type": "execute_result"
    }
   ],
   "source": [
    "y"
   ]
  },
  {
   "cell_type": "code",
   "execution_count": 63,
   "id": "ca53eb9c-07ed-4e7a-bca1-1d043d46b5c1",
   "metadata": {},
   "outputs": [
    {
     "data": {
      "text/plain": [
       "40"
      ]
     },
     "execution_count": 63,
     "metadata": {},
     "output_type": "execute_result"
    }
   ],
   "source": [
    "total_min = 20 + 20\n",
    "total_min"
   ]
  },
  {
   "cell_type": "code",
   "execution_count": 64,
   "id": "bacf6386-cc0a-4157-9797-5371d0ed619f",
   "metadata": {},
   "outputs": [],
   "source": [
    "total_hour = total_min / 2"
   ]
  },
  {
   "cell_type": "code",
   "execution_count": 65,
   "id": "8afc34f4-51fe-4343-b4d5-449f88c416e0",
   "metadata": {},
   "outputs": [
    {
     "data": {
      "text/plain": [
       "20.0"
      ]
     },
     "execution_count": 65,
     "metadata": {},
     "output_type": "execute_result"
    }
   ],
   "source": [
    "total_hour"
   ]
  },
  {
   "cell_type": "code",
   "execution_count": 66,
   "id": "d3350829-7bcb-4e36-963e-38541294f98a",
   "metadata": {},
   "outputs": [
    {
     "data": {
      "text/plain": [
       "25.0"
      ]
     },
     "execution_count": 66,
     "metadata": {},
     "output_type": "execute_result"
    }
   ],
   "source": [
    "total_hour = (20 + 5 + 100) / 5\n",
    "total_hour"
   ]
  },
  {
   "cell_type": "code",
   "execution_count": 67,
   "id": "e7f8d60c-37d2-4c32-9dbf-306bac40fe5e",
   "metadata": {},
   "outputs": [],
   "source": [
    "x = 3 + 2 * 2"
   ]
  },
  {
   "cell_type": "code",
   "execution_count": 68,
   "id": "9d7ccd8c-fdfc-4b66-adef-8686400a1da2",
   "metadata": {},
   "outputs": [
    {
     "data": {
      "text/plain": [
       "7"
      ]
     },
     "execution_count": 68,
     "metadata": {},
     "output_type": "execute_result"
    }
   ],
   "source": [
    "x"
   ]
  },
  {
   "cell_type": "code",
   "execution_count": 69,
   "id": "4eb43b3c-df3d-486e-88c6-f55ec9c4e982",
   "metadata": {},
   "outputs": [
    {
     "data": {
      "text/plain": [
       "10"
      ]
     },
     "execution_count": 69,
     "metadata": {},
     "output_type": "execute_result"
    }
   ],
   "source": [
    "y = (3 + 2) * 2\n",
    "y"
   ]
  },
  {
   "cell_type": "markdown",
   "id": "f7ed3232-7f82-4892-9970-4a9c6dd097fb",
   "metadata": {},
   "source": [
    "## STRINGS OPERATIONS "
   ]
  },
  {
   "cell_type": "code",
   "execution_count": 7,
   "id": "7a0b9753-539b-4dbb-94ce-194af42a800a",
   "metadata": {},
   "outputs": [
    {
     "data": {
      "text/plain": [
       "11"
      ]
     },
     "execution_count": 7,
     "metadata": {},
     "output_type": "execute_result"
    }
   ],
   "source": [
    "len(\"Omar Acosta\") # To know the lenght of the string"
   ]
  },
  {
   "cell_type": "code",
   "execution_count": 4,
   "id": "1db88521-1252-4659-b84f-09b30221380e",
   "metadata": {},
   "outputs": [],
   "source": [
    "name = \"Omar Acosta\"\n"
   ]
  },
  {
   "cell_type": "code",
   "execution_count": 70,
   "id": "0b130b3f-f9ee-401e-8194-038dcc336ef1",
   "metadata": {},
   "outputs": [
    {
     "data": {
      "text/plain": [
       "17"
      ]
     },
     "execution_count": 70,
     "metadata": {},
     "output_type": "execute_result"
    }
   ],
   "source": [
    "z = x + y\n",
    "z"
   ]
  },
  {
   "cell_type": "code",
   "execution_count": 12,
   "id": "4a31c21e-9a7b-4326-9a76-c541d303095a",
   "metadata": {},
   "outputs": [
    {
     "data": {
      "text/plain": [
       "'Omar Acosta is the best'"
      ]
     },
     "execution_count": 12,
     "metadata": {},
     "output_type": "execute_result"
    }
   ],
   "source": [
    "Statement = name + \" is the best\" #Combining strings\n",
    "Statement"
   ]
  },
  {
   "cell_type": "code",
   "execution_count": 14,
   "id": "e978f3a1-31d6-435f-88de-a6cfcbccc2bc",
   "metadata": {},
   "outputs": [
    {
     "data": {
      "text/plain": [
       "'Omar Acosta Omar Acosta Omar Acosta '"
      ]
     },
     "execution_count": 14,
     "metadata": {},
     "output_type": "execute_result"
    }
   ],
   "source": [
    "# We can also replicate the value of a string example:\n",
    "3* (\"Omar Acosta \")"
   ]
  },
  {
   "cell_type": "code",
   "execution_count": 15,
   "id": "3b48ce34-ade1-4f2b-928a-f53f064d0bb3",
   "metadata": {},
   "outputs": [
    {
     "name": "stdout",
     "output_type": "stream",
     "text": [
      "Omar Acosta \n",
      " is the best\n"
     ]
    }
   ],
   "source": [
    "#SCAPE SEQUENCES: \n",
    "# \\N to separate example:\n",
    "print(\"Omar Acosta \\n is the best\")"
   ]
  },
  {
   "cell_type": "code",
   "execution_count": 16,
   "id": "7a0330dd-522a-4673-bf6e-bc384b35ba33",
   "metadata": {},
   "outputs": [
    {
     "name": "stdout",
     "output_type": "stream",
     "text": [
      "Omar Acosta \tis the best\n"
     ]
    }
   ],
   "source": [
    "# \\t Represent a tap example:\n",
    "print(\"Omar Acosta \\tis the best\")"
   ]
  },
  {
   "cell_type": "code",
   "execution_count": 18,
   "id": "0b9c09a7-c443-4e09-b7c0-e06726f14e22",
   "metadata": {},
   "outputs": [
    {
     "name": "stdout",
     "output_type": "stream",
     "text": [
      "Omar Acosta \\is the best\n"
     ]
    }
   ],
   "source": [
    "# \\\\ if you want o to place a backslash in your string\n",
    "print(\"Omar Acosta \\\\is the best\")"
   ]
  },
  {
   "cell_type": "code",
   "execution_count": 19,
   "id": "5c78d2bf-cfd6-4a2e-87e8-dbc1ff05bdff",
   "metadata": {},
   "outputs": [
    {
     "name": "stdout",
     "output_type": "stream",
     "text": [
      " Omar Acosta \\is the best\n"
     ]
    }
   ],
   "source": [
    "# we can also use a r\" in front of the string\n",
    "print(r\" Omar Acosta \\is the best\")"
   ]
  },
  {
   "cell_type": "markdown",
   "id": "b742845c-4089-4b5f-a3b3-c1d1b5ad22dc",
   "metadata": {},
   "source": [
    "### STRING METHODS"
   ]
  },
  {
   "cell_type": "code",
   "execution_count": 21,
   "id": "230676f5-4097-4669-a0e1-f4e25cc31ef8",
   "metadata": {},
   "outputs": [
    {
     "data": {
      "text/plain": [
       "'I LOVE GABRIELA SO MUCH'"
      ]
     },
     "execution_count": 21,
     "metadata": {},
     "output_type": "execute_result"
    }
   ],
   "source": [
    "#Using upper() to convert lowercase to uppercase characters.\n",
    "A = \"I love Gabriela so much\"\n",
    "B = A.upper()\n",
    "B"
   ]
  },
  {
   "cell_type": "code",
   "execution_count": 22,
   "id": "ba37eb04-28ea-4e69-a3f0-71c6a9061eb4",
   "metadata": {},
   "outputs": [
    {
     "data": {
      "text/plain": [
       "'I love Elena so much'"
      ]
     },
     "execution_count": 22,
     "metadata": {},
     "output_type": "execute_result"
    }
   ],
   "source": [
    "#Replacing method, changing the first string with the second one\n",
    "B = A.replace(\"Gabriela\", \"Elena\")\n",
    "B"
   ]
  },
  {
   "cell_type": "code",
   "execution_count": 26,
   "id": "5a5007f6-b362-4916-bc37-35c9aab05a16",
   "metadata": {},
   "outputs": [
    {
     "data": {
      "text/plain": [
       "3"
      ]
     },
     "execution_count": 26,
     "metadata": {},
     "output_type": "execute_result"
    }
   ],
   "source": [
    "#String: Stride , Example Name= Omar Acosta\n",
    "Name = \" Omar Acosta \"\n",
    "Name.find('ar') #Para ver que numeros de la secuencia esta \"ar\"."
   ]
  },
  {
   "cell_type": "code",
   "execution_count": 27,
   "id": "9580f1be-94c7-4470-9788-da571c593935",
   "metadata": {},
   "outputs": [
    {
     "data": {
      "text/plain": [
       "12"
      ]
     },
     "execution_count": 27,
     "metadata": {},
     "output_type": "execute_result"
    }
   ],
   "source": [
    "len(\" Omar Acosta\")"
   ]
  },
  {
   "cell_type": "code",
   "execution_count": 29,
   "id": "7335b68c-828e-40a2-9a33-341a346c7c9b",
   "metadata": {},
   "outputs": [
    {
     "data": {
      "text/plain": [
       "'Omar'"
      ]
     },
     "execution_count": 29,
     "metadata": {},
     "output_type": "execute_result"
    }
   ],
   "source": [
    "name[0:4] #Take the slice on variable name with only index 0 to 4 ( Omar )"
   ]
  },
  {
   "cell_type": "code",
   "execution_count": 30,
   "id": "3832017c-7090-4369-bc55-eafadbdd817a",
   "metadata": {},
   "outputs": [
    {
     "data": {
      "text/plain": [
       "'Oa csa'"
      ]
     },
     "execution_count": 30,
     "metadata": {},
     "output_type": "execute_result"
    }
   ],
   "source": [
    "#Getting every second element in Omar Acosta\n",
    "name[::2]"
   ]
  },
  {
   "cell_type": "code",
   "execution_count": 32,
   "id": "3e64dcf8-6bff-4c6e-951b-caf3cba83965",
   "metadata": {},
   "outputs": [
    {
     "name": "stdout",
     "output_type": "stream",
     "text": [
      "Omar A\n"
     ]
    }
   ],
   "source": [
    "#Printing elements of a string \n",
    "d= \"Omar Acosta Olaverria\"\n",
    "print(d[0:6])"
   ]
  },
  {
   "cell_type": "code",
   "execution_count": 33,
   "id": "4e274f8f-07f8-40ca-aae1-af404a3980a0",
   "metadata": {},
   "outputs": [
    {
     "name": "stdout",
     "output_type": "stream",
     "text": [
      "wqqqeq\n"
     ]
    }
   ],
   "source": [
    "e = \"weqwqeqwewqe\" #Printing every second elemnt of e\n",
    "print(e[::2])"
   ]
  },
  {
   "cell_type": "code",
   "execution_count": 34,
   "id": "aed356aa-c489-4663-b825-3ca23dc6d25b",
   "metadata": {},
   "outputs": [
    {
     "data": {
      "text/plain": [
       "95"
      ]
     },
     "execution_count": 34,
     "metadata": {},
     "output_type": "execute_result"
    }
   ],
   "source": [
    "g = \"Mary had a little lamb Little lamb, little lamb Mary had a little lamb \\\n",
    "Its fleece was white as snow And everywhere that Mary went Mary went, Mary went \\\n",
    "Everywhere that Mary went The lamb was sure to go\"\n",
    "g.find(\"snow\") #Finding the # word in the string "
   ]
  },
  {
   "cell_type": "code",
   "execution_count": 35,
   "id": "c7d3ef18-fdde-4988-b39c-c907c6d70697",
   "metadata": {},
   "outputs": [
    {
     "data": {
      "text/plain": [
       "'Bob had a little lamb Little lamb, little lamb Bob had a little lamb Its fleece was white as snow And everywhere that Bob went Bob went, Bob went Everywhere that Bob went The lamb was sure to go'"
      ]
     },
     "execution_count": 35,
     "metadata": {},
     "output_type": "execute_result"
    }
   ],
   "source": [
    "g.replace (\"Mary\",\"Bob\") #Replacing a word with other in the whole string"
   ]
  },
  {
   "cell_type": "code",
   "execution_count": 40,
   "id": "c2ce7913-ab40-483d-bc5f-38197b06e8d7",
   "metadata": {},
   "outputs": [
    {
     "data": {
      "text/plain": [
       "'ab3'"
      ]
     },
     "execution_count": 40,
     "metadata": {},
     "output_type": "execute_result"
    }
   ],
   "source": [
    "\"123\".replace(\"12\", \"ab\")"
   ]
  },
  {
   "cell_type": "markdown",
   "id": "201e750c-53f0-47b5-9c42-745c2481496d",
   "metadata": {},
   "source": [
    "## Tuples"
   ]
  },
  {
   "cell_type": "code",
   "execution_count": 54,
   "id": "449ce149-13a8-4c55-9fc3-30e535ddf15a",
   "metadata": {},
   "outputs": [
    {
     "data": {
      "text/plain": [
       "1.2"
      ]
     },
     "execution_count": 54,
     "metadata": {},
     "output_type": "execute_result"
    }
   ],
   "source": [
    "#Tuples can have type(\"str\", int, float)\n",
    "Tuple1 = (\"disco\", 10, 1.2)\n",
    "Tuple1[0]\n",
    "Tuple1[1]\n",
    "Tuple1[2]"
   ]
  },
  {
   "cell_type": "code",
   "execution_count": 55,
   "id": "3d31baa4-1066-4798-a914-12c911cf6790",
   "metadata": {},
   "outputs": [
    {
     "data": {
      "text/plain": [
       "10"
      ]
     },
     "execution_count": 55,
     "metadata": {},
     "output_type": "execute_result"
    }
   ],
   "source": [
    "Tuple1[1]"
   ]
  },
  {
   "cell_type": "code",
   "execution_count": 56,
   "id": "8e6c9dc7-41e0-4b36-9e4f-0b05dd6576fd",
   "metadata": {},
   "outputs": [
    {
     "data": {
      "text/plain": [
       "'disco'"
      ]
     },
     "execution_count": 56,
     "metadata": {},
     "output_type": "execute_result"
    }
   ],
   "source": [
    "Tuple1[0]"
   ]
  },
  {
   "cell_type": "code",
   "execution_count": 58,
   "id": "17aa119b-a05c-446a-98dd-cfd762465bbc",
   "metadata": {},
   "outputs": [
    {
     "data": {
      "text/plain": [
       "('disco', 10, 1.2, 'Hard rock', 10)"
      ]
     },
     "execution_count": 58,
     "metadata": {},
     "output_type": "execute_result"
    }
   ],
   "source": [
    "Tuple2 = Tuple1 + (\"Hard rock\", 10) #Putting 2 tuples together\n",
    "Tuple2"
   ]
  },
  {
   "cell_type": "code",
   "execution_count": 59,
   "id": "003e0bdb-a94c-41d3-81bb-0370b6b48eda",
   "metadata": {},
   "outputs": [
    {
     "data": {
      "text/plain": [
       "('disco', 10, 1.2)"
      ]
     },
     "execution_count": 59,
     "metadata": {},
     "output_type": "execute_result"
    }
   ],
   "source": [
    "#Tuples Slicing\n",
    "Tuple2[0:3] #Selecting only the first 3 tuples"
   ]
  },
  {
   "cell_type": "code",
   "execution_count": 60,
   "id": "56eae545-92db-4693-9a3d-23d522c85264",
   "metadata": {},
   "outputs": [
    {
     "data": {
      "text/plain": [
       "('Hard rock', 10)"
      ]
     },
     "execution_count": 60,
     "metadata": {},
     "output_type": "execute_result"
    }
   ],
   "source": [
    "Tuple2[3:5] #Selecting the tuple 3 and 4. "
   ]
  },
  {
   "cell_type": "code",
   "execution_count": 61,
   "id": "6961364a-c33a-402e-9654-40e76b1ddeea",
   "metadata": {},
   "outputs": [
    {
     "data": {
      "text/plain": [
       "5"
      ]
     },
     "execution_count": 61,
     "metadata": {},
     "output_type": "execute_result"
    }
   ],
   "source": [
    "len((\"disco\", 10, 1.2, \"hard rock\", 10)) #To know how many tuples there are."
   ]
  },
  {
   "cell_type": "code",
   "execution_count": null,
   "id": "6bad9a74-74f0-45d5-93ee-e9e3db3f31d0",
   "metadata": {},
   "outputs": [],
   "source": [
    "#Tuples:Immutable\n",
    "#Sorting number in tuples using sorted()"
   ]
  },
  {
   "cell_type": "code",
   "execution_count": 63,
   "id": "7de9abc9-4107-423c-a64c-4927b8e947fe",
   "metadata": {},
   "outputs": [
    {
     "data": {
      "text/plain": [
       "(10, 9, 6, 5, 10, 8, 9, 6, 2)"
      ]
     },
     "execution_count": 63,
     "metadata": {},
     "output_type": "execute_result"
    }
   ],
   "source": [
    "ratings =(10,9,6,5,10,8,9,6,2)\n",
    "ratings1 = ratings\n",
    "ratings1"
   ]
  },
  {
   "cell_type": "code",
   "execution_count": 70,
   "id": "5c34b091-a3fb-4833-bfcd-bd6658850be6",
   "metadata": {},
   "outputs": [],
   "source": [
    "ratings = (10,9,6,5,10,8,9,6,2)\n",
    "\n"
   ]
  },
  {
   "cell_type": "code",
   "execution_count": 71,
   "id": "43721c91-28bd-49d1-9e12-bb48ead1b77b",
   "metadata": {},
   "outputs": [],
   "source": [
    "Rating_Sorted= sorted(ratings)"
   ]
  },
  {
   "cell_type": "code",
   "execution_count": 72,
   "id": "cc92912a-782b-4cc0-9c4c-4a27c756d4e7",
   "metadata": {},
   "outputs": [
    {
     "name": "stdout",
     "output_type": "stream",
     "text": [
      "[2, 5, 6, 6, 8, 9, 9, 10, 10]\n"
     ]
    }
   ],
   "source": [
    "print(Rating_Sorted)"
   ]
  },
  {
   "cell_type": "code",
   "execution_count": 74,
   "id": "5771f9d8-9cb8-47c1-95ca-da8c0c7bafd0",
   "metadata": {},
   "outputs": [
    {
     "data": {
      "text/plain": [
       "(1, 2, ('pop', 'rock'), (3, 4), ('disco', (1, 2)))"
      ]
     },
     "execution_count": 74,
     "metadata": {},
     "output_type": "execute_result"
    }
   ],
   "source": [
    "#Tuples: Nesting\n",
    "\n",
    "NT=(1,2,(\"pop\",\"rock\"),(3,4),(\"disco\",(1,2)))\n",
    "NT"
   ]
  },
  {
   "cell_type": "code",
   "execution_count": 75,
   "id": "5767314e-20f2-4aa7-99d9-1a0db3caf90a",
   "metadata": {},
   "outputs": [
    {
     "data": {
      "text/plain": [
       "('pop', 'rock')"
      ]
     },
     "execution_count": 75,
     "metadata": {},
     "output_type": "execute_result"
    }
   ],
   "source": [
    "NT[2]"
   ]
  },
  {
   "cell_type": "code",
   "execution_count": 76,
   "id": "18af12d2-3cb9-4f4e-93d2-1875a0a210c8",
   "metadata": {},
   "outputs": [
    {
     "data": {
      "text/plain": [
       "(3, 4)"
      ]
     },
     "execution_count": 76,
     "metadata": {},
     "output_type": "execute_result"
    }
   ],
   "source": [
    "NT[3]"
   ]
  },
  {
   "cell_type": "code",
   "execution_count": 78,
   "id": "cc45b8b9-54b9-47cf-b992-7e9bfe55e13a",
   "metadata": {},
   "outputs": [
    {
     "data": {
      "text/plain": [
       "'rock'"
      ]
     },
     "execution_count": 78,
     "metadata": {},
     "output_type": "execute_result"
    }
   ],
   "source": [
    "NT[2][1]"
   ]
  },
  {
   "cell_type": "code",
   "execution_count": 79,
   "id": "884d523a-e9bb-49f3-91a2-334a6c1699a8",
   "metadata": {},
   "outputs": [
    {
     "data": {
      "text/plain": [
       "4"
      ]
     },
     "execution_count": 79,
     "metadata": {},
     "output_type": "execute_result"
    }
   ],
   "source": [
    "NT[3][1]"
   ]
  },
  {
   "cell_type": "markdown",
   "id": "1b2a0448-429f-499b-a7ee-b92e0b74dbc6",
   "metadata": {},
   "source": [
    "### Lists"
   ]
  },
  {
   "cell_type": "code",
   "execution_count": 82,
   "id": "679ec0bd-cee5-4409-a520-7eca4c9d24e6",
   "metadata": {},
   "outputs": [
    {
     "data": {
      "text/plain": [
       "['Michael Jackson', 10.1, 1982]"
      ]
     },
     "execution_count": 82,
     "metadata": {},
     "output_type": "execute_result"
    }
   ],
   "source": [
    "L = [\"Michael Jackson\", 10.1, 1982]\n",
    "L"
   ]
  },
  {
   "cell_type": "code",
   "execution_count": 83,
   "id": "a7df5317-7d68-4657-a1db-daf7c38da8a7",
   "metadata": {},
   "outputs": [
    {
     "data": {
      "text/plain": [
       "'Michael Jackson'"
      ]
     },
     "execution_count": 83,
     "metadata": {},
     "output_type": "execute_result"
    }
   ],
   "source": [
    "L[0]"
   ]
  },
  {
   "cell_type": "code",
   "execution_count": 84,
   "id": "73592a90-d8f9-4d8b-af7d-c010f3ff29d7",
   "metadata": {},
   "outputs": [
    {
     "data": {
      "text/plain": [
       "10.1"
      ]
     },
     "execution_count": 84,
     "metadata": {},
     "output_type": "execute_result"
    }
   ],
   "source": [
    "L[1]"
   ]
  },
  {
   "cell_type": "code",
   "execution_count": 85,
   "id": "b1db147c-0fc8-4526-a935-5299d7ac212d",
   "metadata": {},
   "outputs": [
    {
     "data": {
      "text/plain": [
       "1982"
      ]
     },
     "execution_count": 85,
     "metadata": {},
     "output_type": "execute_result"
    }
   ],
   "source": [
    "L[2]"
   ]
  },
  {
   "cell_type": "code",
   "execution_count": 88,
   "id": "ff2cfc6d-c92f-409d-8d2f-7bbfc6f7c033",
   "metadata": {},
   "outputs": [],
   "source": [
    "L[3:5]:[\"MJ\", 1]"
   ]
  },
  {
   "cell_type": "code",
   "execution_count": 90,
   "id": "632f48b4-1997-4b33-84c6-1a22d41f59a7",
   "metadata": {},
   "outputs": [
    {
     "data": {
      "text/plain": [
       "['Michael Jackson', 10.1, 1982]"
      ]
     },
     "execution_count": 90,
     "metadata": {},
     "output_type": "execute_result"
    }
   ],
   "source": [
    "L"
   ]
  },
  {
   "cell_type": "code",
   "execution_count": 92,
   "id": "a760b52a-e219-42b8-83b0-2138d1f253d7",
   "metadata": {},
   "outputs": [
    {
     "data": {
      "text/plain": [
       "['Michael Jackson', 10.1, 1982, 'pop', 10]"
      ]
     },
     "execution_count": 92,
     "metadata": {},
     "output_type": "execute_result"
    }
   ],
   "source": [
    "L1= L+ [\"pop\", 10]\n",
    "L1"
   ]
  },
  {
   "cell_type": "code",
   "execution_count": 94,
   "id": "b92de395-58d6-48a5-800d-ac4479b4fb69",
   "metadata": {},
   "outputs": [
    {
     "data": {
      "text/plain": [
       "[10.1, 1982]"
      ]
     },
     "execution_count": 94,
     "metadata": {},
     "output_type": "execute_result"
    }
   ],
   "source": [
    "L[1:3]"
   ]
  },
  {
   "cell_type": "code",
   "execution_count": 95,
   "id": "134083b3-d6b7-445f-9a29-b64c7932a74f",
   "metadata": {},
   "outputs": [
    {
     "data": {
      "text/plain": [
       "['Michael Jackson', 10.1, 1982, 'pop', 10]"
      ]
     },
     "execution_count": 95,
     "metadata": {},
     "output_type": "execute_result"
    }
   ],
   "source": [
    "L.extend([\"pop\", 10]) #Using extend() to add words to a list. \n",
    "L"
   ]
  },
  {
   "cell_type": "code",
   "execution_count": 96,
   "id": "783387dd-1366-4984-957a-720921be4b37",
   "metadata": {},
   "outputs": [
    {
     "data": {
      "text/plain": [
       "['Michael Jackson', 10.1, 1982, 'pop', 10]"
      ]
     },
     "execution_count": 96,
     "metadata": {},
     "output_type": "execute_result"
    }
   ],
   "source": [
    "L1"
   ]
  },
  {
   "cell_type": "code",
   "execution_count": 97,
   "id": "e00c2855-dc11-47c5-b8e5-f69853436538",
   "metadata": {},
   "outputs": [],
   "source": [
    "L1.extend([\"Sawasakakakaka\", 1202526522365])"
   ]
  },
  {
   "cell_type": "code",
   "execution_count": 98,
   "id": "176ad206-f164-4cf5-8a79-1a5dc0064e38",
   "metadata": {},
   "outputs": [
    {
     "data": {
      "text/plain": [
       "['Michael Jackson', 10.1, 1982, 'pop', 10, 'Sawasakakakaka', 1202526522365]"
      ]
     },
     "execution_count": 98,
     "metadata": {},
     "output_type": "execute_result"
    }
   ],
   "source": [
    "L1"
   ]
  },
  {
   "cell_type": "code",
   "execution_count": 99,
   "id": "08cc277a-de2b-4332-a033-80747f785441",
   "metadata": {},
   "outputs": [
    {
     "data": {
      "text/plain": [
       "7"
      ]
     },
     "execution_count": 99,
     "metadata": {},
     "output_type": "execute_result"
    }
   ],
   "source": [
    "len(L1)"
   ]
  },
  {
   "cell_type": "code",
   "execution_count": 100,
   "id": "acd7e08b-63b9-480f-90a6-98912733d2e3",
   "metadata": {},
   "outputs": [
    {
     "data": {
      "text/plain": [
       "['Michael Jackson', 10.1, 1982, 'pop']"
      ]
     },
     "execution_count": 100,
     "metadata": {},
     "output_type": "execute_result"
    }
   ],
   "source": [
    "L1[0:4]"
   ]
  },
  {
   "cell_type": "code",
   "execution_count": 101,
   "id": "c23a7e41-af51-4102-9ecb-e484245226e9",
   "metadata": {},
   "outputs": [
    {
     "data": {
      "text/plain": [
       "['Michael Jackson', 1982, 10, 1202526522365]"
      ]
     },
     "execution_count": 101,
     "metadata": {},
     "output_type": "execute_result"
    }
   ],
   "source": [
    "L1[::2]"
   ]
  },
  {
   "cell_type": "code",
   "execution_count": 104,
   "id": "9e822692-8b2c-4999-ba1a-6427161153b6",
   "metadata": {},
   "outputs": [
    {
     "data": {
      "text/plain": [
       "['Michael Jackson', 10.1, 1982, 'pop', 10, ['coco', 2022]]"
      ]
     },
     "execution_count": 104,
     "metadata": {},
     "output_type": "execute_result"
    }
   ],
   "source": [
    "# we can also use .append() to add to the list, ex:\n",
    "L.append([\"coco\", 2022])\n",
    "L"
   ]
  },
  {
   "cell_type": "code",
   "execution_count": 111,
   "id": "79ae773c-bdcb-4395-ae89-c283b85dc61e",
   "metadata": {},
   "outputs": [
    {
     "data": {
      "text/plain": [
       "['KLK MMG', 10, 1.2]"
      ]
     },
     "execution_count": 111,
     "metadata": {},
     "output_type": "execute_result"
    }
   ],
   "source": [
    "#Changing a word in the list\n",
    "A=[\"hard rock\",10,1.2]\n",
    "A[0]=\"KLK MMG\"\n",
    "A\n"
   ]
  },
  {
   "cell_type": "code",
   "execution_count": 116,
   "id": "7c6d47b2-8a0b-4e95-ac2e-93c9f069a4ec",
   "metadata": {},
   "outputs": [
    {
     "data": {
      "text/plain": [
       "['KLK MMG', 1.2]"
      ]
     },
     "execution_count": 116,
     "metadata": {},
     "output_type": "execute_result"
    }
   ],
   "source": [
    "A=[\"KLK MMG\",10,1.2]\n",
    "del(A[1])\n",
    "A\n"
   ]
  },
  {
   "cell_type": "code",
   "execution_count": 117,
   "id": "2859a850-c567-4ca7-8755-fa043f3efa8d",
   "metadata": {},
   "outputs": [
    {
     "data": {
      "text/plain": [
       "['hard', 'rock']"
      ]
     },
     "execution_count": 117,
     "metadata": {},
     "output_type": "execute_result"
    }
   ],
   "source": [
    "#Converting string to List using .split()\n",
    "\"hard rock\".split()"
   ]
  },
  {
   "cell_type": "code",
   "execution_count": 118,
   "id": "cc0b652d-313f-4425-9dbe-7da4d13ae325",
   "metadata": {},
   "outputs": [
    {
     "data": {
      "text/plain": [
       "['Hello', 'world,', 'Here', 'were', 'are', 'learning', 'Python']"
      ]
     },
     "execution_count": 118,
     "metadata": {},
     "output_type": "execute_result"
    }
   ],
   "source": [
    "\"Hello world, Here were are learning Python\".split()"
   ]
  },
  {
   "cell_type": "code",
   "execution_count": 119,
   "id": "865bf0e9-9edc-4361-9402-0ee095b7c73d",
   "metadata": {},
   "outputs": [
    {
     "data": {
      "text/plain": [
       "['Hello world', ' Here we are learning Python']"
      ]
     },
     "execution_count": 119,
     "metadata": {},
     "output_type": "execute_result"
    }
   ],
   "source": [
    "#using .split(\",\")\n",
    "\"Hello world, Here we are learning Python\".split(\",\") #Separing the List by ( , ) Commas"
   ]
  },
  {
   "cell_type": "code",
   "execution_count": 120,
   "id": "4fc66af7-499d-4301-9d00-0cad25d868ff",
   "metadata": {},
   "outputs": [
    {
     "data": {
      "text/plain": [
       "['KLK MMG', 1.2]"
      ]
     },
     "execution_count": 120,
     "metadata": {},
     "output_type": "execute_result"
    }
   ],
   "source": [
    "A"
   ]
  },
  {
   "cell_type": "code",
   "execution_count": 121,
   "id": "44ed3ff9-9d92-4635-90ef-df7b5525b11c",
   "metadata": {},
   "outputs": [
    {
     "data": {
      "text/plain": [
       "['KLK MMG', 1.2]"
      ]
     },
     "execution_count": 121,
     "metadata": {},
     "output_type": "execute_result"
    }
   ],
   "source": [
    "B = A\n",
    "B"
   ]
  },
  {
   "cell_type": "code",
   "execution_count": 122,
   "id": "480b264e-a3e1-4799-aa21-05d6aa7020c0",
   "metadata": {},
   "outputs": [
    {
     "data": {
      "text/plain": [
       "'KLK MMG'"
      ]
     },
     "execution_count": 122,
     "metadata": {},
     "output_type": "execute_result"
    }
   ],
   "source": [
    "B[0]"
   ]
  },
  {
   "cell_type": "code",
   "execution_count": 123,
   "id": "07b82152-eb70-4560-bb70-f994ea1b21bd",
   "metadata": {},
   "outputs": [
    {
     "data": {
      "text/plain": [
       "['KLK MMG', 1.2]"
      ]
     },
     "execution_count": 123,
     "metadata": {},
     "output_type": "execute_result"
    }
   ],
   "source": [
    "A"
   ]
  },
  {
   "cell_type": "code",
   "execution_count": 124,
   "id": "eb87dd99-1b66-44b2-a3a7-488b774d42ef",
   "metadata": {},
   "outputs": [],
   "source": [
    "B=A[:] #Using [:] to create a clon. This will be not be affected if the original value changes."
   ]
  },
  {
   "cell_type": "code",
   "execution_count": 125,
   "id": "daab3083-40bf-4304-9f21-cb2c3a8125d3",
   "metadata": {},
   "outputs": [
    {
     "data": {
      "text/plain": [
       "['KLK MMG', 1.2]"
      ]
     },
     "execution_count": 125,
     "metadata": {},
     "output_type": "execute_result"
    }
   ],
   "source": [
    "B"
   ]
  },
  {
   "cell_type": "code",
   "execution_count": 126,
   "id": "22edd8ea-418c-43ed-8880-a09ddc4d3b80",
   "metadata": {},
   "outputs": [
    {
     "data": {
      "text/plain": [
       "['KLK MMG', 1.2]"
      ]
     },
     "execution_count": 126,
     "metadata": {},
     "output_type": "execute_result"
    }
   ],
   "source": [
    "A"
   ]
  },
  {
   "cell_type": "code",
   "execution_count": 127,
   "id": "c0bc23c6-60ac-49c8-9158-d70ba8c3aaac",
   "metadata": {},
   "outputs": [
    {
     "data": {
      "text/plain": [
       "['KLK MMG', 1.2]"
      ]
     },
     "execution_count": 127,
     "metadata": {},
     "output_type": "execute_result"
    }
   ],
   "source": [
    "B"
   ]
  },
  {
   "cell_type": "code",
   "execution_count": 128,
   "id": "10589ab2-e288-4c4d-8a8d-d5a9c61a6630",
   "metadata": {},
   "outputs": [
    {
     "data": {
      "text/plain": [
       "['Whats up dude', 1.2]"
      ]
     },
     "execution_count": 128,
     "metadata": {},
     "output_type": "execute_result"
    }
   ],
   "source": [
    "A[0]= \"Whats up dude\"\n",
    "A"
   ]
  },
  {
   "cell_type": "code",
   "execution_count": 129,
   "id": "ece00f3e-a54b-4f8d-9499-abcf4d5327b1",
   "metadata": {},
   "outputs": [
    {
     "data": {
      "text/plain": [
       "['KLK MMG', 1.2]"
      ]
     },
     "execution_count": 129,
     "metadata": {},
     "output_type": "execute_result"
    }
   ],
   "source": [
    "B"
   ]
  },
  {
   "cell_type": "markdown",
   "id": "eb8ea063-cea7-4025-975f-a0578873db61",
   "metadata": {},
   "source": [
    "## Dictionaries"
   ]
  },
  {
   "cell_type": "code",
   "execution_count": 132,
   "id": "f2448994-a9b7-4181-ad3f-f4baa6248a54",
   "metadata": {},
   "outputs": [
    {
     "data": {
      "text/plain": [
       "{'key1': 1,\n",
       " 'key2': '2',\n",
       " 'key3': [3, 3, 3],\n",
       " 'key4': (4, 4, 4),\n",
       " 'key5': 5,\n",
       " (0, 1): 6}"
      ]
     },
     "execution_count": 132,
     "metadata": {},
     "output_type": "execute_result"
    }
   ],
   "source": [
    "Dict = {\"key1\": 1, \"key2\": \"2\", \"key3\": [3, 3, 3], \"key4\": (4, 4, 4), ('key5'): 5, (0, 1): 6}\n",
    "Dict # Creating a dictionary"
   ]
  },
  {
   "cell_type": "code",
   "execution_count": 134,
   "id": "7d53f120-4445-4878-b0c7-53351d160cdc",
   "metadata": {},
   "outputs": [
    {
     "data": {
      "text/plain": [
       "1"
      ]
     },
     "execution_count": 134,
     "metadata": {},
     "output_type": "execute_result"
    }
   ],
   "source": [
    "Dict[\"key1\"]"
   ]
  },
  {
   "cell_type": "code",
   "execution_count": 135,
   "id": "d4e0d724-a73d-46d9-8fbb-86587a361442",
   "metadata": {},
   "outputs": [
    {
     "data": {
      "text/plain": [
       "{'Thriller': '1982',\n",
       " 'Back in Black': '1980',\n",
       " 'The Dark Side of the Moon': '1973',\n",
       " 'The Bodyguard': '1992',\n",
       " 'Bat Out of Hell': '1977',\n",
       " 'Their Greatest Hits (1971-1975)': '1976',\n",
       " 'Saturday Night Fever': '1977',\n",
       " 'Rumours': '1977'}"
      ]
     },
     "execution_count": 135,
     "metadata": {},
     "output_type": "execute_result"
    }
   ],
   "source": [
    "# Create a sample dictionary\n",
    "\n",
    "release_year_dict = {\"Thriller\": \"1982\", \"Back in Black\": \"1980\", \\\n",
    "                    \"The Dark Side of the Moon\": \"1973\", \"The Bodyguard\": \"1992\", \\\n",
    "                    \"Bat Out of Hell\": \"1977\", \"Their Greatest Hits (1971-1975)\": \"1976\", \\\n",
    "                    \"Saturday Night Fever\": \"1977\", \"Rumours\": \"1977\"}\n",
    "release_year_dict"
   ]
  },
  {
   "cell_type": "code",
   "execution_count": 136,
   "id": "06b64d83-5979-4948-aba1-c323a062812d",
   "metadata": {},
   "outputs": [
    {
     "data": {
      "text/plain": [
       "'1982'"
      ]
     },
     "execution_count": 136,
     "metadata": {},
     "output_type": "execute_result"
    }
   ],
   "source": [
    "release_year_dict[\"Thriller\"]"
   ]
  },
  {
   "cell_type": "code",
   "execution_count": 137,
   "id": "61471dca-6837-459b-b82b-9bec364e9ff6",
   "metadata": {},
   "outputs": [
    {
     "data": {
      "text/plain": [
       "dict_keys(['Thriller', 'Back in Black', 'The Dark Side of the Moon', 'The Bodyguard', 'Bat Out of Hell', 'Their Greatest Hits (1971-1975)', 'Saturday Night Fever', 'Rumours'])"
      ]
     },
     "execution_count": 137,
     "metadata": {},
     "output_type": "execute_result"
    }
   ],
   "source": [
    "# To get all the keys of the dictionary we use .keys()\n",
    "release_year_dict.keys()"
   ]
  },
  {
   "cell_type": "code",
   "execution_count": 138,
   "id": "274daaca-252b-44c3-808c-7931a98e4bec",
   "metadata": {},
   "outputs": [
    {
     "data": {
      "text/plain": [
       "dict_values(['1982', '1980', '1973', '1992', '1977', '1976', '1977', '1977'])"
      ]
     },
     "execution_count": 138,
     "metadata": {},
     "output_type": "execute_result"
    }
   ],
   "source": [
    "#To get all the values of the dictionary we use .values()\n",
    "release_year_dict.values()"
   ]
  },
  {
   "cell_type": "code",
   "execution_count": 140,
   "id": "11acdd81-0a18-4180-aee2-c8ad0215a5aa",
   "metadata": {},
   "outputs": [
    {
     "data": {
      "text/plain": [
       "{'Thriller': '1982',\n",
       " 'Back in Black': '1980',\n",
       " 'The Dark Side of the Moon': '1973',\n",
       " 'The Bodyguard': '1992',\n",
       " 'Bat Out of Hell': '1977',\n",
       " 'Their Greatest Hits (1971-1975)': '1976',\n",
       " 'Saturday Night Fever': '1977',\n",
       " 'Rumours': '1977',\n",
       " 'Graduation': '2007'}"
      ]
     },
     "execution_count": 140,
     "metadata": {},
     "output_type": "execute_result"
    }
   ],
   "source": [
    "# To add an entry: \n",
    "release_year_dict[\"Graduation\"] = \"2007\"\n",
    "release_year_dict"
   ]
  },
  {
   "cell_type": "code",
   "execution_count": 143,
   "id": "57d18b43-4e89-4da1-985e-e371c29b40ea",
   "metadata": {},
   "outputs": [],
   "source": [
    "#To delete a entry se just use del( )\n",
    "del(release_year_dict[\"Graduation\"])"
   ]
  },
  {
   "cell_type": "code",
   "execution_count": 144,
   "id": "6775c265-8831-419e-b993-2fb8e495019b",
   "metadata": {},
   "outputs": [
    {
     "data": {
      "text/plain": [
       "{'Thriller': '1982',\n",
       " 'Back in Black': '1980',\n",
       " 'The Dark Side of the Moon': '1973',\n",
       " 'The Bodyguard': '1992',\n",
       " 'Bat Out of Hell': '1977',\n",
       " 'Their Greatest Hits (1971-1975)': '1976',\n",
       " 'Saturday Night Fever': '1977',\n",
       " 'Rumours': '1977'}"
      ]
     },
     "execution_count": 144,
     "metadata": {},
     "output_type": "execute_result"
    }
   ],
   "source": [
    "release_year_dict"
   ]
  },
  {
   "cell_type": "code",
   "execution_count": 145,
   "id": "c6ad52a6-27fb-4cdd-b818-29c6ff224450",
   "metadata": {},
   "outputs": [
    {
     "data": {
      "text/plain": [
       "True"
      ]
     },
     "execution_count": 145,
     "metadata": {},
     "output_type": "execute_result"
    }
   ],
   "source": [
    "#To verify if the key if in the dictionary. using (in)\n",
    "\"Back in Black\" in release_year_dict"
   ]
  },
  {
   "cell_type": "code",
   "execution_count": 146,
   "id": "1659a03d-2cd0-43ab-bf2f-1f7b48ef2537",
   "metadata": {},
   "outputs": [
    {
     "data": {
      "text/plain": [
       "False"
      ]
     },
     "execution_count": 146,
     "metadata": {},
     "output_type": "execute_result"
    }
   ],
   "source": [
    "\"The cuco cabron\" in release_year_dict"
   ]
  },
  {
   "cell_type": "markdown",
   "id": "158c2213-dbb4-4313-b44c-98f4c7b16611",
   "metadata": {},
   "source": [
    "## Sets"
   ]
  },
  {
   "cell_type": "code",
   "execution_count": 149,
   "id": "d98bd7c9-8c01-4b75-bb14-99e1a4e7f303",
   "metadata": {},
   "outputs": [
    {
     "data": {
      "text/plain": [
       "{'disco', 'hard rock', 'hip hop', 'pop', 'rock', 'soul'}"
      ]
     },
     "execution_count": 149,
     "metadata": {},
     "output_type": "execute_result"
    }
   ],
   "source": [
    "set1={\"pop\",\"rock\",\"soul\",\"hard rock\",\"rock\",\"hip hop\",\"rock\",\"disco\"}\n",
    "set1"
   ]
  },
  {
   "cell_type": "code",
   "execution_count": 151,
   "id": "90e7a28d-2aca-4a17-ad62-643d092a2268",
   "metadata": {},
   "outputs": [
    {
     "data": {
      "text/plain": [
       "{1982, 'Michael Jackson', 'Thriller'}"
      ]
     },
     "execution_count": 151,
     "metadata": {},
     "output_type": "execute_result"
    }
   ],
   "source": [
    "# you can convert a list into set using the function set()\n",
    "#example: \n",
    "album_list=[\"Michael Jackson\",\"Thriller\",\"Thriller\",1982]\n",
    "album_set=set(album_list)\n",
    "album_set"
   ]
  },
  {
   "cell_type": "code",
   "execution_count": 152,
   "id": "1e050efe-1936-439f-9013-9e23fbc56926",
   "metadata": {},
   "outputs": [
    {
     "data": {
      "text/plain": [
       "{'AC/DC', 'Back in Black', 'Thriller'}"
      ]
     },
     "execution_count": 152,
     "metadata": {},
     "output_type": "execute_result"
    }
   ],
   "source": [
    "#Set operations\n",
    "A={\"Thriller\",\"Back in Black\",\"AC/DC\"}\n",
    "A"
   ]
  },
  {
   "cell_type": "code",
   "execution_count": 153,
   "id": "4b0672a0-0d56-4c13-a27c-2eaa953fcd08",
   "metadata": {},
   "outputs": [
    {
     "data": {
      "text/plain": [
       "{'AC/DC', 'Back in Black', 'NSYNC', 'Thriller'}"
      ]
     },
     "execution_count": 153,
     "metadata": {},
     "output_type": "execute_result"
    }
   ],
   "source": [
    "A.add(\"NSYNC\") #To add a new item\n",
    "A"
   ]
  },
  {
   "cell_type": "code",
   "execution_count": 154,
   "id": "0236a646-f168-408e-982f-490d36b38034",
   "metadata": {},
   "outputs": [
    {
     "data": {
      "text/plain": [
       "{'AC/DC', 'Back in Black', 'Thriller'}"
      ]
     },
     "execution_count": 154,
     "metadata": {},
     "output_type": "execute_result"
    }
   ],
   "source": [
    "A.remove(\"NSYNC\") #To remove an item from the set\n",
    "A"
   ]
  },
  {
   "cell_type": "code",
   "execution_count": 155,
   "id": "d9840b0a-c193-4a6a-86cb-5f7095da8511",
   "metadata": {},
   "outputs": [
    {
     "data": {
      "text/plain": [
       "True"
      ]
     },
     "execution_count": 155,
     "metadata": {},
     "output_type": "execute_result"
    }
   ],
   "source": [
    "\"AC/DC\" in A #To verify if an element is in the set using in()"
   ]
  },
  {
   "cell_type": "code",
   "execution_count": 156,
   "id": "6ee7fc8b-c7d5-4f11-bfc9-07cb04bdecf9",
   "metadata": {},
   "outputs": [
    {
     "data": {
      "text/plain": [
       "False"
      ]
     },
     "execution_count": 156,
     "metadata": {},
     "output_type": "execute_result"
    }
   ],
   "source": [
    "\"NSYNC\" in A"
   ]
  },
  {
   "cell_type": "code",
   "execution_count": 158,
   "id": "ca3bd045-8191-4e2e-9cce-54a55ffd0693",
   "metadata": {},
   "outputs": [
    {
     "data": {
      "text/plain": [
       "{'AC/DC', 'Back in Black'}"
      ]
     },
     "execution_count": 158,
     "metadata": {},
     "output_type": "execute_result"
    }
   ],
   "source": [
    "#Using ampersands \n",
    "album_set_1={\"AC/DC\",\"Back in Black\",\"Thriller\"}\n",
    "album_set_2={\"AC/DC\",\"Back in Black\",\"The Dark Side of the Moon\"}\n",
    "album_set_3=album_set_1 & album_set_2\n",
    "album_set_3 #The result of using &() is the elements that are in both album and not the remaining elements."
   ]
  },
  {
   "cell_type": "code",
   "execution_count": 159,
   "id": "3430eca1-4c2e-48b1-89ac-738a3004fc44",
   "metadata": {},
   "outputs": [
    {
     "data": {
      "text/plain": [
       "{'AC/DC', 'Back in Black', 'The Dark Side of the Moon', 'Thriller'}"
      ]
     },
     "execution_count": 159,
     "metadata": {},
     "output_type": "execute_result"
    }
   ],
   "source": [
    "#Finding union()\n",
    "album_set_1.union(album_set_2)"
   ]
  },
  {
   "cell_type": "code",
   "execution_count": 161,
   "id": "4c62b71f-2edc-4e32-835d-40d4443c2a64",
   "metadata": {},
   "outputs": [
    {
     "data": {
      "text/plain": [
       "True"
      ]
     },
     "execution_count": 161,
     "metadata": {},
     "output_type": "execute_result"
    }
   ],
   "source": [
    "album_set_3.issubset(album_set_1) #Using issubset()"
   ]
  },
  {
   "cell_type": "code",
   "execution_count": 162,
   "id": "0d27b170-3d05-459f-a153-cc2b746fe178",
   "metadata": {},
   "outputs": [
    {
     "data": {
      "text/plain": [
       "({'AC/DC', 'Back in Black', 'Thriller'},\n",
       " {'AC/DC', 'Back in Black', 'The Dark Side of the Moon'})"
      ]
     },
     "execution_count": 162,
     "metadata": {},
     "output_type": "execute_result"
    }
   ],
   "source": [
    "album_set_1, album_set_2"
   ]
  },
  {
   "cell_type": "code",
   "execution_count": 163,
   "id": "4f537beb-b481-4ba3-9b48-5f10bf84e822",
   "metadata": {},
   "outputs": [
    {
     "data": {
      "text/plain": [
       "{'AC/DC', 'Back in Black'}"
      ]
     },
     "execution_count": 163,
     "metadata": {},
     "output_type": "execute_result"
    }
   ],
   "source": [
    "#Finding the intersections\n",
    "intersection = album_set_1 & album_set_2\n",
    "intersection"
   ]
  },
  {
   "cell_type": "code",
   "execution_count": 164,
   "id": "9afaba82-62b8-4d7a-859f-27edeea98b73",
   "metadata": {},
   "outputs": [
    {
     "data": {
      "text/plain": [
       "{'Thriller'}"
      ]
     },
     "execution_count": 164,
     "metadata": {},
     "output_type": "execute_result"
    }
   ],
   "source": [
    "#Find the difference in set 1 but not set2 using .difference()\n",
    "album_set_1.difference(album_set_2)"
   ]
  },
  {
   "cell_type": "code",
   "execution_count": 165,
   "id": "dec829e6-3db1-41d3-9198-1ad5da561aef",
   "metadata": {},
   "outputs": [
    {
     "data": {
      "text/plain": [
       "{'The Dark Side of the Moon'}"
      ]
     },
     "execution_count": 165,
     "metadata": {},
     "output_type": "execute_result"
    }
   ],
   "source": [
    "album_set_2.difference(album_set_1)"
   ]
  },
  {
   "cell_type": "code",
   "execution_count": 166,
   "id": "b5055a6e-b53a-452d-890a-b7947a15bbc1",
   "metadata": {},
   "outputs": [
    {
     "data": {
      "text/plain": [
       "{'AC/DC', 'Back in Black'}"
      ]
     },
     "execution_count": 166,
     "metadata": {},
     "output_type": "execute_result"
    }
   ],
   "source": [
    "#Finding the intersertion between the 2 circles (Album1 and 2)\n",
    "album_set_1.intersection(album_set_2)\n"
   ]
  },
  {
   "cell_type": "code",
   "execution_count": 172,
   "id": "137a48dc-222b-4a62-bfd0-910999db5c71",
   "metadata": {},
   "outputs": [
    {
     "data": {
      "text/plain": [
       "True"
      ]
     },
     "execution_count": 172,
     "metadata": {},
     "output_type": "execute_result"
    }
   ],
   "source": [
    "set({\"Back in Black\", \"AC/DC\"}).issubset(album_set_1) #Checking if subset"
   ]
  },
  {
   "cell_type": "code",
   "execution_count": 173,
   "id": "ece363aa-0085-43b0-a97b-aa300f5d549e",
   "metadata": {},
   "outputs": [
    {
     "data": {
      "text/plain": [
       "True"
      ]
     },
     "execution_count": 173,
     "metadata": {},
     "output_type": "execute_result"
    }
   ],
   "source": [
    "album_set_1.issuperset({\"Back in Black\", \"AC/DC\"}) #Cheking if superset"
   ]
  },
  {
   "cell_type": "code",
   "execution_count": 176,
   "id": "77f50dda-7554-4da4-ba2e-fa38446bcbb0",
   "metadata": {},
   "outputs": [
    {
     "data": {
      "text/plain": [
       "{'electronic music', 'house', 'rap'}"
      ]
     },
     "execution_count": 176,
     "metadata": {},
     "output_type": "execute_result"
    }
   ],
   "source": [
    "set(['rap','house','electronic music', 'rap'])"
   ]
  },
  {
   "cell_type": "markdown",
   "id": "f6953d8d-aee3-4157-9402-f1b252a44796",
   "metadata": {},
   "source": [
    "### Conditions and Branching"
   ]
  },
  {
   "cell_type": "code",
   "execution_count": 177,
   "id": "d659463a-47bd-4a02-847b-77f755eb329e",
   "metadata": {},
   "outputs": [
    {
     "data": {
      "text/plain": [
       "False"
      ]
     },
     "execution_count": 177,
     "metadata": {},
     "output_type": "execute_result"
    }
   ],
   "source": [
    "# Comparison operators\n",
    "a=6\n",
    "a==7"
   ]
  },
  {
   "cell_type": "code",
   "execution_count": 178,
   "id": "06e4b0a1-c032-4aee-97fa-11be5ac3db8d",
   "metadata": {},
   "outputs": [
    {
     "data": {
      "text/plain": [
       "True"
      ]
     },
     "execution_count": 178,
     "metadata": {},
     "output_type": "execute_result"
    }
   ],
   "source": [
    "a==6"
   ]
  },
  {
   "cell_type": "code",
   "execution_count": 180,
   "id": "03a6d3b1-3ea0-47e7-b3d9-514f35b579cf",
   "metadata": {},
   "outputs": [
    {
     "data": {
      "text/plain": [
       "True"
      ]
     },
     "execution_count": 180,
     "metadata": {},
     "output_type": "execute_result"
    }
   ],
   "source": [
    "i=6\n",
    "i>5"
   ]
  },
  {
   "cell_type": "code",
   "execution_count": 181,
   "id": "6ea6f25e-ddd1-48bf-b821-f508b529fdc8",
   "metadata": {},
   "outputs": [
    {
     "data": {
      "text/plain": [
       "False"
      ]
     },
     "execution_count": 181,
     "metadata": {},
     "output_type": "execute_result"
    }
   ],
   "source": [
    "i>7"
   ]
  },
  {
   "cell_type": "code",
   "execution_count": 182,
   "id": "b640fb30-4a7d-4ce4-bec6-e0c7f513f821",
   "metadata": {},
   "outputs": [
    {
     "data": {
      "text/plain": [
       "True"
      ]
     },
     "execution_count": 182,
     "metadata": {},
     "output_type": "execute_result"
    }
   ],
   "source": [
    "i >= 6"
   ]
  },
  {
   "cell_type": "code",
   "execution_count": 185,
   "id": "1fc71729-d080-485c-86ef-12047bd3024b",
   "metadata": {},
   "outputs": [
    {
     "data": {
      "text/plain": [
       "True"
      ]
     },
     "execution_count": 185,
     "metadata": {},
     "output_type": "execute_result"
    }
   ],
   "source": [
    "#Using inequality test (!=)\n",
    "i!=6\n",
    "\n",
    "i==2"
   ]
  },
  {
   "cell_type": "code",
   "execution_count": 186,
   "id": "22737e59-2cb1-4912-9ef2-964e7297d35b",
   "metadata": {},
   "outputs": [
    {
     "data": {
      "text/plain": [
       "False"
      ]
     },
     "execution_count": 186,
     "metadata": {},
     "output_type": "execute_result"
    }
   ],
   "source": [
    "i==6"
   ]
  },
  {
   "cell_type": "code",
   "execution_count": 187,
   "id": "b4e95ab0-ecb0-45fb-b121-fdc7a8dac8c1",
   "metadata": {},
   "outputs": [
    {
     "data": {
      "text/plain": [
       "False"
      ]
     },
     "execution_count": 187,
     "metadata": {},
     "output_type": "execute_result"
    }
   ],
   "source": [
    "\"Arjona\"==\"Nadal\" # we can also compare strings using the equality test (==)"
   ]
  },
  {
   "cell_type": "code",
   "execution_count": 188,
   "id": "3918bf08-c567-4aab-a3db-68189481b985",
   "metadata": {},
   "outputs": [
    {
     "data": {
      "text/plain": [
       "True"
      ]
     },
     "execution_count": 188,
     "metadata": {},
     "output_type": "execute_result"
    }
   ],
   "source": [
    "\"Arjona\"!=\"Nadal\" #Using the inequality test we get a True if the strings are different"
   ]
  },
  {
   "cell_type": "code",
   "execution_count": 189,
   "id": "876be121-42c1-48b5-bc85-d68e93d52b50",
   "metadata": {},
   "outputs": [
    {
     "data": {
      "text/plain": [
       "False"
      ]
     },
     "execution_count": 189,
     "metadata": {},
     "output_type": "execute_result"
    }
   ],
   "source": [
    "\"arjona\"==\"Arjona\""
   ]
  },
  {
   "cell_type": "markdown",
   "id": "1849a23c-bfc8-41ac-a472-6c3202e86213",
   "metadata": {},
   "source": [
    "#### Branching"
   ]
  },
  {
   "cell_type": "code",
   "execution_count": 190,
   "id": "4515f6fb-1c31-43ba-ac7c-9cfbc6d4b8a9",
   "metadata": {},
   "outputs": [],
   "source": [
    "#USING IF STATEMENT"
   ]
  },
  {
   "cell_type": "code",
   "execution_count": 192,
   "id": "36cfeb3d-a3a8-4f4b-b61b-8122a7d3b517",
   "metadata": {},
   "outputs": [
    {
     "name": "stdout",
     "output_type": "stream",
     "text": [
      "Move on\n"
     ]
    }
   ],
   "source": [
    "age = 17    #This will only print move on because the statement is False\n",
    "if (age>18):\n",
    "    print(\"You can enter\")\n",
    "print(\"Move on\")"
   ]
  },
  {
   "cell_type": "code",
   "execution_count": 193,
   "id": "d4d823a8-0368-496e-95ab-21d139418725",
   "metadata": {},
   "outputs": [
    {
     "name": "stdout",
     "output_type": "stream",
     "text": [
      "You can enter\n",
      "Move on\n"
     ]
    }
   ],
   "source": [
    "age = 19    #As this statement is True, this will print the You can enter statement\n",
    "if (age>18):\n",
    "    print(\"You can enter\")\n",
    "print(\"Move on\")"
   ]
  },
  {
   "cell_type": "code",
   "execution_count": 194,
   "id": "9acc5333-13da-4c2e-a115-1f12c795ebef",
   "metadata": {},
   "outputs": [
    {
     "name": "stdout",
     "output_type": "stream",
     "text": [
      "Go see kids playing movie\n",
      "Move on\n"
     ]
    }
   ],
   "source": [
    "# USING THE ELSE STATEMENT\n",
    "age = 17\n",
    "if (age>18):\n",
    "    print(\"You can enter\")\n",
    "else:                    # if the condition is False then the else statement will be printed.\n",
    "    print(\"Go see kids playing movie\")\n",
    "print(\"Move on\")\n"
   ]
  },
  {
   "cell_type": "code",
   "execution_count": 195,
   "id": "ac7b73b8-9b18-4bea-af4d-e9c39d662168",
   "metadata": {},
   "outputs": [
    {
     "name": "stdout",
     "output_type": "stream",
     "text": [
      "You can enter\n",
      "Move on\n"
     ]
    }
   ],
   "source": [
    "# USING THE ELSE STATEMENT\n",
    "age = 19\n",
    "if (age>18):\n",
    "    print(\"You can enter\")\n",
    "else:\n",
    "    print(\"Go see kids playing movie\")\n",
    "print(\"Move on\")"
   ]
  },
  {
   "cell_type": "code",
   "execution_count": 196,
   "id": "11dc6329-b870-47a5-b5b5-4770349a1179",
   "metadata": {},
   "outputs": [],
   "source": [
    "# elif statement\n"
   ]
  },
  {
   "cell_type": "code",
   "execution_count": 197,
   "id": "ed03376c-e24f-4e7c-b77b-b9f567a73842",
   "metadata": {},
   "outputs": [
    {
     "name": "stdout",
     "output_type": "stream",
     "text": [
      "You can enter\n",
      "MOVE ON\n"
     ]
    }
   ],
   "source": [
    "age= 19\n",
    "if (age>18):\n",
    "    print(\"You can enter\")\n",
    "elif(age==18):\n",
    "    print(\"Go see Pink Floyd\")\n",
    "else:\n",
    "    print(\"Go see kids playing movie\")\n",
    "print (\"MOVE ON\")"
   ]
  },
  {
   "cell_type": "code",
   "execution_count": 198,
   "id": "9f81d665-0d3f-4f26-b4ac-ec4f1959a2f1",
   "metadata": {},
   "outputs": [
    {
     "name": "stdout",
     "output_type": "stream",
     "text": [
      "Go see Pink Floyd\n",
      "MOVE ON\n"
     ]
    }
   ],
   "source": [
    "age= 18     #Validing elif function\n",
    "if (age>18):\n",
    "    print(\"You can enter\")\n",
    "elif(age==18):\n",
    "    print(\"Go see Pink Floyd\")\n",
    "else:\n",
    "    print(\"Go see kids playing movie\")\n",
    "print (\"MOVE ON\")"
   ]
  },
  {
   "cell_type": "code",
   "execution_count": 201,
   "id": "31fe43b7-d71e-4616-9c22-070ead028b58",
   "metadata": {},
   "outputs": [
    {
     "name": "stdout",
     "output_type": "stream",
     "text": [
      "Go see Pink Floyd\n"
     ]
    }
   ],
   "source": [
    "age= 45\n",
    "if (age==18):\n",
    "    print(\"You can enter\")\n",
    "elif(age!=18):\n",
    "    print(\"Go see Pink Floyd\")\n"
   ]
  },
  {
   "cell_type": "code",
   "execution_count": 202,
   "id": "9c1e41d6-bc3e-43be-95e8-cde508b09f87",
   "metadata": {},
   "outputs": [],
   "source": [
    "# LOGIC OPERATORS"
   ]
  },
  {
   "cell_type": "code",
   "execution_count": 204,
   "id": "a9f00740-fc92-4aec-81f5-4c69b70d2b5e",
   "metadata": {},
   "outputs": [
    {
     "data": {
      "text/plain": [
       "False"
      ]
     },
     "execution_count": 204,
     "metadata": {},
     "output_type": "execute_result"
    }
   ],
   "source": [
    "# Not() operator ex:\n",
    "not(True)"
   ]
  },
  {
   "cell_type": "code",
   "execution_count": 205,
   "id": "e9297808-863f-4b7c-9fef-ecc723ed3c4e",
   "metadata": {},
   "outputs": [
    {
     "data": {
      "text/plain": [
       "True"
      ]
     },
     "execution_count": 205,
     "metadata": {},
     "output_type": "execute_result"
    }
   ],
   "source": [
    "not(False)"
   ]
  },
  {
   "cell_type": "code",
   "execution_count": 208,
   "id": "dacc4fbf-9e58-4733-9341-e3142a15b6eb",
   "metadata": {},
   "outputs": [
    {
     "name": "stdout",
     "output_type": "stream",
     "text": [
      "The Album was made in the 70's or 90's\n"
     ]
    }
   ],
   "source": [
    "# or() operator takes values and produces a new boolean value\n",
    "#(( or() operatoronly produces a false if all the Boolean values are False.))\n",
    "\n",
    "album_year= 1990 \n",
    "\n",
    "if (album_year < 1980) or (album_year > 1989):\n",
    "    print(\"The Album was made in the 70's or 90's\")\n",
    "\n",
    "else:\n",
    "    print(\"The album was made in the 1980's\")\n"
   ]
  },
  {
   "cell_type": "code",
   "execution_count": 212,
   "id": "57482606-9640-41f2-972c-f873de623bd3",
   "metadata": {},
   "outputs": [
    {
     "name": "stdout",
     "output_type": "stream",
     "text": [
      "WRONG\n"
     ]
    }
   ],
   "source": [
    "# and() operator takes values and produce a new Boolean value.\n",
    "# this only produces a True if all the Boolean values are True\n",
    "album_year = 1965 # Using a false value\n",
    "if(album_year > 1979) and (album_year < 1990):\n",
    "    print (\"This album was made in the 80's\")\n",
    "\n",
    "else:\n",
    "    print(\"WRONG\")"
   ]
  },
  {
   "cell_type": "code",
   "execution_count": 213,
   "id": "cea3cdb3-7dce-4f5e-bf49-e9c850e66c5a",
   "metadata": {},
   "outputs": [
    {
     "name": "stdout",
     "output_type": "stream",
     "text": [
      "This album was made in the 80's\n"
     ]
    }
   ],
   "source": [
    "# and() operator takes values and produce a new Boolean value.\n",
    "# this only produces a True if all the Boolean values are True\n",
    "album_year = 1985 # Using a True value.\n",
    "if(album_year > 1979) and (album_year < 1990):\n",
    "    print (\"This album was made in the 80's\")\n",
    "\n",
    "else:\n",
    "    print(\"WRONG\")"
   ]
  },
  {
   "cell_type": "code",
   "execution_count": 2,
   "id": "d0a91c9b",
   "metadata": {},
   "outputs": [
    {
     "data": {
      "text/plain": [
       "False"
      ]
     },
     "execution_count": 2,
     "metadata": {},
     "output_type": "execute_result"
    }
   ],
   "source": [
    "i=6\n",
    "i<5"
   ]
  },
  {
   "cell_type": "code",
   "execution_count": null,
   "id": "fee8614e-74ed-46af-a24f-e5486b627d5e",
   "metadata": {},
   "outputs": [],
   "source": []
  }
 ],
 "metadata": {
  "kernelspec": {
   "display_name": "Python 3 (ipykernel)",
   "language": "python",
   "name": "python3"
  },
  "language_info": {
   "codemirror_mode": {
    "name": "ipython",
    "version": 3
   },
   "file_extension": ".py",
   "mimetype": "text/x-python",
   "name": "python",
   "nbconvert_exporter": "python",
   "pygments_lexer": "ipython3",
   "version": "3.9.13"
  },
  "vscode": {
   "interpreter": {
    "hash": "91555e203e11ede8496fb03363e909d37d72bb051c20872b508296bfc889c327"
   }
  }
 },
 "nbformat": 4,
 "nbformat_minor": 5
}
